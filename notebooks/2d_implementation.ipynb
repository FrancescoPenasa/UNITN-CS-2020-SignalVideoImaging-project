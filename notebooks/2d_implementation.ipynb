{
 "cells": [
  {
   "cell_type": "code",
   "execution_count": 8,
   "metadata": {
    "collapsed": true
   },
   "outputs": [],
   "source": [
    "import os\n",
    "import numpy as np\n",
    "from collections import deque"
   ]
  },
  {
   "cell_type": "code",
   "execution_count": 3,
   "outputs": [
    {
     "data": {
      "text/plain": "(512, 512, 341)"
     },
     "execution_count": 3,
     "metadata": {},
     "output_type": "execute_result"
    }
   ],
   "source": [
    "# take a nii file\n",
    "data_path = \"D:\\dev\\CT-Covid-19-August2020\"\n",
    "example_filename = os.path.join(data_path, 'volume-covid19-A-0000.nii.gz')\n",
    "\n",
    "# load image\n",
    "import nibabel as nib\n",
    "img = nib.load(example_filename)\n",
    "\n",
    "# show shapes\n",
    "img.shape"
   ],
   "metadata": {
    "collapsed": false,
    "pycharm": {
     "name": "#%%\n"
    }
   }
  },
  {
   "cell_type": "code",
   "execution_count": 13,
   "outputs": [],
   "source": [
    "# growing function\n",
    "class RegionGrow3D():\n",
    "    \"\"\"\n",
    "    documentation\n",
    "    \"\"\"\n",
    "\n",
    "    def __init__(self, images, masks, upperThreshold, lowerThreshold, neighborMode):\n",
    "        self.images = images\n",
    "        self.masks = masks\n",
    "        self.outputMask = np.zeros_like(self.slices)\n",
    "        self.upperThreshold = upperThreshold\n",
    "        self.lowerThreshold = lowerThreshold\n",
    "        self.neighborMode = neighborMode\n",
    "        self.queue = deque()\n",
    "\n",
    "    def main(self, seed):\n",
    "\n",
    "        newItem = np.zeros(3)\n",
    "        neighbors = np.zeros(26,3)\n",
    "        newItem = seed\n",
    "\n",
    "        self.outputMask[newItem[0], newItem[1], newItem[2]] = 1\n",
    "        self.queue.append((seed[0], seed[1], seed[2]))\n",
    "\n",
    "        while len(self.queue) != 0:\n",
    "            newItem = self.queue.pop()\n",
    "            if self.neighborMode == \"26n\":\n",
    "                neighbors = [[newItem[0]-1, newItem[1]-1, newItem[2]-1],   [newItem[0]-1, newItem[1]-1, newItem[2]],   [newItem[0]-1, newItem[1]-1, newItem[2]+1],\n",
    "                             [newItem[0]-1, newItem[1], newItem[2]-1],     [newItem[0]-1, newItem[1], newItem[2]],     [newItem[0]-1, newItem[1], newItem[2]+1],\n",
    "                             [newItem[0]-1, newItem[1]+1, newItem[2]-1],   [newItem[0]-1, newItem[1]+1, newItem[2]],   [newItem[0]-1, newItem[1]+1, newItem[2]+1],\n",
    "                             [newItem[0], newItem[1]-1, newItem[2]-1],     [newItem[0], newItem[1]-1, newItem[2]],     [newItem[0], newItem[1]-1, newItem[2]+1],\n",
    "                             [newItem[0], newItem[1], newItem[2]-1],       [newItem[0], newItem[1], newItem[2]+1],     [newItem[0], newItem[1]+1, newItem[2]-1],\n",
    "                             [newItem[0], newItem[1]+1, newItem[2]],       [newItem[0], newItem[1]+1, newItem[2]+1],   [newItem[0]+1, newItem[1]-1, newItem[2]-1],\n",
    "                             [newItem[0]+1, newItem[1]-1, newItem[2]],     [newItem[0]+1, newItem[1]-1, newItem[2]+1], [newItem[0]+1, newItem[1], newItem[2]-1],\n",
    "                             [newItem[0]+1, newItem[1], newItem[2]],       [newItem[0]+1, newItem[1], newItem[2]+1],   [newItem[0]+1, newItem[1]+1, newItem[2]-1],\n",
    "                             [newItem[0]+1, newItem[1]+1, newItem[2]],     [newItem[0]+1, newItem[1]+1, newItem[2]+1]]\n",
    "                for neighbor in neighbors:\n",
    "                    self.checkNeighbour(neighbor[0], neighbor[1], neighbor[2])\n",
    "            elif self.neighborMode == \"6n\":\n",
    "                self.checkNeighbour(newItem[0], newItem[1], newItem[2]-1)\n",
    "                self.checkNeighbour(newItem[0], newItem[1], newItem[2]+1)\n",
    "                self.checkNeighbour(newItem[0], newItem[1]-1, newItem[2])\n",
    "                self.checkNeighbour(newItem[0], newItem[1]+1, newItem[2])\n",
    "                self.checkNeighbour(newItem[0]-1, newItem[1], newItem[2])\n",
    "                self.checkNeighbour(newItem[0]+1, newItem[1], newItem[2])\n",
    "        return self.outputMask\n",
    "\n",
    "    # todo check this 513 if it is meaningful\n",
    "    def checkNeighbour(self, z, y, x):\n",
    "        if (x < 513 and y < 513 and z < 315\n",
    "            and x > -1 and y > -1 and z > -1\n",
    "            and self.masks[z,y,x] == 1):\n",
    "            intensity = self.images[z, y, x]\n",
    "            if self.isIntensityAcceptable(intensity) and self.outputMask[z,y,x] == 0:\n",
    "                self.outputMask[z,y,x] = 1\n",
    "                self.queue.append((z, y, x))\n",
    "\n",
    "    def isIntensityAcceptable(self, intensity):\n",
    "        if ((intensity < self.upperThreshold) and (intensity > self.lowerThreshold)):\n",
    "            return True\n",
    "        else:\n",
    "          return False"
   ],
   "metadata": {
    "collapsed": false,
    "pycharm": {
     "name": "#%%\n"
    }
   }
  },
  {
   "cell_type": "code",
   "execution_count": null,
   "outputs": [],
   "source": [
    "# todo insert seed and edges"
   ],
   "metadata": {
    "collapsed": false,
    "pycharm": {
     "name": "#%%\n"
    }
   }
  }
 ],
 "metadata": {
  "kernelspec": {
   "display_name": "Python 3",
   "language": "python",
   "name": "python3"
  },
  "language_info": {
   "codemirror_mode": {
    "name": "ipython",
    "version": 2
   },
   "file_extension": ".py",
   "mimetype": "text/x-python",
   "name": "python",
   "nbconvert_exporter": "python",
   "pygments_lexer": "ipython2",
   "version": "2.7.6"
  }
 },
 "nbformat": 4,
 "nbformat_minor": 0
}